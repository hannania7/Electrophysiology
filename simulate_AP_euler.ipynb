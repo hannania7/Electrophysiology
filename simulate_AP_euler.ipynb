from scipy.integrate import ode, solve_ivp
import os, sys, time
import numpy as np
import matplotlib.pyplot as plt
import pickle
import bisect

sys.path.append('../')
from Protocols.pacing_protocol import PacingProtocol
from Protocols.leakstaircase import LeakStaircase

sys.path.append('../')
import euler_simulator

def plot_AP( t, V, title=None, figsize=(6,4), xlabel='Time (ms)', ylabel='Membrane Potential (mV)', 
             label=None, xlim=None, ylim=None,
             save_path=None):
    
    fig, ax = plt.subplots(figsize=figsize)    
    fig.suptitle(title, fontsize=14)
    # ax.set_title('Simulation %d'%(simulationNo))
    if xlim !=None:
        ax.set_xlim(xlim[0], xlim[1])
    if ylim !=None:
        ax.set_ylim(ylim[0], ylim[1])
    ax.set_xlabel(xlabel)
    plt.ylabel(ylabel)     
    ax.plot(t, V, label=label)   
    # textstr = "GNa : %1.4f\nGNaL : %1.4f\nGto : %1.4f\nPCa : %1.4f\nGKr : %1.4f\nGKs : %1.4f\nGK1 : %1.4f\nGf : %1.4f"%(GNa/g_fc[0], GNaL/g_fc[1], Gto/g_fc[2], PCa/g_fc[3], GKr/g_fc[4], GKs/g_fc[5], GK1/g_fc[6], Gf/g_fc[7])
    # props = dict(boxstyle='round', facecolor='wheat', alpha=0.5)
    # place a text box in upper left in axes coords
    #     ax.text(0.67, 0.60, textstr, transform=ax.transAxes, fontsize=14, verticalalignment='top', bbox=props)    
    #     fig1 = plt.gcf()
    if label != None:
        ax.legend()
    plt.show()
    if save_path != None:
        fig.savefig(save_path, dpi=100)

from Models.hh1592d import HH1592d
protocol = PacingProtocol(level=1, start=5, length=0.03, period=30, multiplier=0, default_time_unit='ms')
model = HH1592d(protocol)
model.name = "Hodgkin Huxley 1592d"

start_time = time.time()

simulator = euler_simulator.Simulator(model)
simulator.dt = 0.01
simulator.simulate(end_time=60)    # , max_step=8e-4

print("--- %s seconds ---"%(time.time()-start_time))

plot_AP( model.times, model.V, title=model.name, figsize=(6,4), save_path=os.path.join('AP_results', "Hodgkin-Huxley-1592d") )

from Models.br1977 import BR1977
'''
Beeler and Reuter 1977
'''
protocol = PacingProtocol(level=1, start=100, length=2, period=1000, multiplier=0, default_time_unit='ms')
model = BR1977(protocol)
model.name = "Beeler and Reuter 1977"

start_time = time.time()

simulator = euler_simulator.Simulator(model)
simulator.dt = 0.01
simulator.simulate(end_time=2000)    

print("--- %s seconds ---"%(time.time()-start_time))

plot_AP( model.times, model.V, title=model.name, figsize=(6,4), save_path=os.path.join('AP_results', "Beeler-Reuter-1977") )
